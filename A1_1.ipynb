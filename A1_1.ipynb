{
 "metadata": {
  "name": "A1_1"
 },
 "nbformat": 3,
 "nbformat_minor": 0,
 "worksheets": [
  {
   "cells": [
    {
     "cell_type": "markdown",
     "metadata": {},
     "source": "# Assignment 1-1\n\n**Due 23 January before 10pm.**"
    },
    {
     "cell_type": "code",
     "collapsed": false,
     "input": "# Put your onyen between the quotes\nAuthor = 'your onyen here'\n\n# If you have no collaborators then remove all the strings from this list\n# it should look like Collaborators = [ ]\nCollaborators = [ 'list', 'their', 'onyens', 'here' ]",
     "language": "python",
     "metadata": {},
     "outputs": [],
     "prompt_number": 1
    },
    {
     "cell_type": "markdown",
     "metadata": {},
     "source": "## Introduction\n\nThe goal of this assignment is to get you doing simple things with iPython Notebook and to make sure our process works.\n\nFirst some boilerplate code to initialize the environment; don't change anything here.\n"
    },
    {
     "cell_type": "code",
     "collapsed": false,
     "input": "# we use checker to provide feedback, you wouldn't use it in a real application\nimport A1_1checker as checker\n\ncheck, report = checker.start('A1_1')",
     "language": "python",
     "metadata": {},
     "outputs": [],
     "prompt_number": 2
    },
    {
     "cell_type": "markdown",
     "metadata": {},
     "source": "## Exercises\n\n1) Evaluate the following python code and examine what it prints; make sure you understand why it prints those values. Feel free to examine the values of `a` and `b`. Nothing really for you to write here, we're just making sure things are working as expected."
    },
    {
     "cell_type": "code",
     "collapsed": false,
     "input": "A = 2\nB = 5\nC = 100\nprint A + B\n\ncheck('Part 1', A+B, points=1)",
     "language": "python",
     "metadata": {},
     "outputs": [
      {
       "output_type": "stream",
       "stream": "stdout",
       "text": "7\nPart 1 correct\n"
      }
     ],
     "prompt_number": 3
    },
    {
     "cell_type": "markdown",
     "metadata": {},
     "source": "2) What is the value of the variable `A` raised to the 32nd power? (Hint: the exponentiation operator is \\*\\*)"
    },
    {
     "cell_type": "code",
     "collapsed": false,
     "input": "Answer2 = A**32 # replace this with an expression that evaluates the answer, a single number is NOT the answer\n\nprint A, 'to the 32nd power is', Answer2\n\ncheck('Part 2', Answer2, points=5)",
     "language": "python",
     "metadata": {},
     "outputs": [
      {
       "output_type": "stream",
       "stream": "stdout",
       "text": "2 to the 32nd power is 4294967296\nPart 2 correct\n"
      }
     ],
     "prompt_number": 4
    },
    {
     "cell_type": "markdown",
     "metadata": {},
     "source": "3) What is the value of `A` times `B` times `C`?"
    },
    {
     "cell_type": "code",
     "collapsed": false,
     "input": "Answer3 = A*B*C # replace this with code to compute the answer\n\nprint 'The product of', A, 'times', B, 'times', C, 'is', Answer3\n\ncheck('Part 3', Answer3, points=5)",
     "language": "python",
     "metadata": {},
     "outputs": [
      {
       "output_type": "stream",
       "stream": "stdout",
       "text": "The product of 2 times 5 times 100 is 1000\nPart 3 correct\n"
      }
     ],
     "prompt_number": 5
    },
    {
     "cell_type": "markdown",
     "metadata": {},
     "source": "This last bit of code just reports on how well you did on the assignment. You can run it as often as you like."
    },
    {
     "cell_type": "code",
     "collapsed": false,
     "input": "# don't change any of this. The value of Author and Collaborators will be taken from that cell at the top\nreport(Author, Collaborators)",
     "language": "python",
     "metadata": {},
     "outputs": [
      {
       "output_type": "stream",
       "stream": "stdout",
       "text": "You must fill in your onyen into the author variable at the top of the script\nYou must fill in your collaborators onyens in the collaborators variable\nReport for your onyen here\n  Collaborators: ['list', 'their', 'onyens', 'here']\n  3 of 5 correct, 11 of 11 points\n"
      }
     ],
     "prompt_number": 6
    },
    {
     "cell_type": "markdown",
     "metadata": {},
     "source": "Now you are done. Simply save your Notebook with Ctrl-S or File->Save and Checkpoint; then close this window, and submit the A1.ipynb file on Sakai."
    }
   ],
   "metadata": {}
  }
 ]
}