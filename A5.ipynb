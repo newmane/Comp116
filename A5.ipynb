{
 "metadata": {
  "name": "A5"
 },
 "nbformat": 3,
 "nbformat_minor": 0,
 "worksheets": [
  {
   "cells": [
    {
     "cell_type": "markdown",
     "metadata": {},
     "source": "# Assignment 5 Statistical Significance\n\n**Due 27 March before 10pm**\n\nThis NASA post, <a href=\"http://www.nasa.gov/topics/earth/features/midweek_rainfall.html\">NASA Data Link Pollution to Rainy Summer Days in the Southeast</a>, claims that in the southeastern US it rains more Tuesday through Thursday than it does Saturday through Monday. The presence of a seven-day cycle in the weather is \"eerie\" evidence that human activity influences the weather.\n\nYour mission in this assignment is to see if you can validate their claim using data from the instruments at RDU airport. Of course, the NASA researchers had access to much richer data, so we are not really equipped to confirm or refute their claim but we're in the southeast, and have some data, let's see what we can do.\n\nI have collected 10 years of data into a single file, `A5/krdu-rain-2001-2010.csv`, in a format suitable for use with np.loadtxt(). The data have 4 columns; year, month, day, and rainfall in inches.\n\nFirst, you should read these posts by Allen Downey:\n\n1. <a href=\"http://allendowney.blogspot.com/2011/05/there-is-only-one-test.html\">There is only one test!</a>\n2. <a href=\"http://allendowney.blogspot.com/2011/06/more-hypotheses-less-trivia.html\">More hypotheses, less trivia.</a> Pay special attention to the paragraph <b>Permutation</b> under <b>Difference in means</b>. You shouldn't use his code; write your own.\n\n##What to do\n\n1. Read the data.\n2. Determine the days of the week from the dates. (You can't just slice the array)\n3. Write a function to get the average daily rainfall during midweek (Tuesday through Thursday) and weekend (Saturday through Monday).\n4. Report the average rainfall for midweek and weekend, and their difference (delta). I provide a check for this so you can be sure you're on the right track.\n5. Determine and report the p value (the likelyhood that the effect is not real) by simulation. You'll need to first, compute the delta which in our case is the difference between the means for midweek and weekend. Then you'll run the function many times, each time permuting the day labels, and counting the number of times that the difference between the new means is greater than delta. Now divide that count by the number of trials you ran. That will be the p value. If count is 0, that means you didn't find even a single permutation that produced a greater difference in means; the effect is very likely real. On the other hand, if count is huge, then there were many permutations that produced greater differences, so the difference is likely just random.\n"
    },
    {
     "cell_type": "markdown",
     "metadata": {},
     "source": "## Tips\n\n**1)** The <a href=\"http://docs.python.org/library/datetime.html#datetime.date.weekday\"><b>weekday</b></a> method of the <b>date</b> class from the <b>datetime</b> module will be useful for getting the day of the week from the date. **Note:** The `weekday()` method returns `0` for Monday.\n\nThe date class knows nothing about numpy so you'll need to use a loop to process all the days.\n\nYou use it like this:\n"
    },
    {
     "cell_type": "code",
     "collapsed": false,
     "input": "from datetime import date\n\n# later in your code when you want to determine the day of the week\n# you create a date object from a year, month, and day.\n# I'll fake up a year, month, and day so we can see it work\nyear = 2000\nmonth = 1\nday = 1\ndo = date(year, month, day)\n# and use its weekday method\nday1 = do.weekday()\n\n# or do it all in one step\nday2 = date(year, month, day).weekday()\n\nprint do, day1, day2",
     "language": "python",
     "metadata": {},
     "outputs": [
      {
       "output_type": "stream",
       "stream": "stdout",
       "text": "2000-01-01 5 5\n"
      }
     ],
     "prompt_number": 67
    },
    {
     "cell_type": "markdown",
     "metadata": {},
     "source": "**2)** The <a href=\"http://docs.scipy.org/doc/numpy/reference/generated/numpy.random.permutation.html\"> `np.random.permutation`</a> function will be useful for permuting the data. You use it like this:"
    },
    {
     "cell_type": "code",
     "collapsed": false,
     "input": "# first I'll create some array I want to shuffle.\nimport numpy as np\nA = np.arange(10)\nB = np.random.permutation(A)\nB",
     "language": "python",
     "metadata": {},
     "outputs": [
      {
       "metadata": {},
       "output_type": "pyout",
       "prompt_number": 68,
       "text": "array([1, 7, 5, 9, 0, 2, 3, 8, 6, 4])"
      }
     ],
     "prompt_number": 68
    },
    {
     "cell_type": "markdown",
     "metadata": {},
     "source": "**3)** You'll need to use a loop to run your simulation many times. I found that 1000 trials gives a faily stable result (0.04 to 0.06) and doesn't require too long to run (good for debugging). Feel free to play with larger numbers but **I will time limit your submissions and assume they failed if they require more than 30 seconds to run on my computer**. "
    },
    {
     "cell_type": "markdown",
     "metadata": {},
     "source": "**4)** I confirmed my intuition about how this should work by tweaking the data. For example, if I add 0.1 inch of rain to every Tuesday, the p value drops to zero but if I replace the rainfall with random numbers it rises to near 0.5."
    },
    {
     "cell_type": "markdown",
     "metadata": {},
     "source": "## Checks\n\nSince I'm not writing a lot of code for you, I can't give you the usual super structured checks.  I'm going to give you some very general ones to help keep you on track. You'll be responsible for making sure you put your various results into the correct variable names."
    },
    {
     "cell_type": "code",
     "collapsed": false,
     "input": "# fill in your onyen (not PID) here\nAuthor = 'newmane'\nCollaborators = [ ]",
     "language": "python",
     "metadata": {},
     "outputs": [],
     "prompt_number": 69
    },
    {
     "cell_type": "code",
     "collapsed": false,
     "input": "# usual boilerplate\n%matplotlib inline\nimport numpy as np\nimport pylab\nfrom datetime import date\nimport comp116\ncheck, report = comp116.start('A5')",
     "language": "python",
     "metadata": {},
     "outputs": [],
     "prompt_number": 70
    },
    {
     "cell_type": "code",
     "collapsed": false,
     "input": "# First you should read the data\na = 'A5/krdu-rain-2001-2010.csv'\ndata = np.loadtxt(a, delimiter=',')\ncheck('data', data, points=10)",
     "language": "python",
     "metadata": {},
     "outputs": [
      {
       "output_type": "stream",
       "stream": "stdout",
       "text": "data correct\n"
      }
     ],
     "prompt_number": 71
    },
    {
     "cell_type": "code",
     "collapsed": false,
     "input": "# Then work out the day of the week for each date (0 is Monday)\n\nyear = data[:,0]\nmonth = data[:,1]\nday = data[:,2]\ndayOfWeek = []\nfor i in range(len(data)):\n    week = date((int(year[i])),int(month[i]), int(day[i])).weekday()\n    dayOfWeek.append(week)\ndayOfWeek = np.array(dayOfWeek)\ncheck('days of week', dayOfWeek, points=20)",
     "language": "python",
     "metadata": {},
     "outputs": [
      {
       "output_type": "stream",
       "stream": "stdout",
       "text": "days of week correct\n"
      }
     ],
     "prompt_number": 72
    },
    {
     "cell_type": "code",
     "collapsed": false,
     "input": "# Write a function that takes two arguments, an array of day numbers and\n# an array of rainfall amounts and returns the midweek and weekend rain as\n# defined by the NASA researchers. Remember you can return multiple results\n# by packing them into a tuple.\n\nrain = data[:,3]\ndef meanrain(day, rainfalls):\n    midwk1 = np.logical_and(day >=1,day <=3)\n    wkend1 = np.logical_or(day == 0, np.logical_and(day >= 5, day <= 6))\n    a = np.mean(rainfalls[midwk1])\n    b = np.mean(rainfalls[wkend1])\n    return ((a,b))\n\n#np.logical and >=1 <= 3 \n#np.logcial or < 1 >= 5 \n#thenfind the mean\n# I strongly recommend using numpy array functions to group your days\n# into midweek and weekend, looping is likely to be too slow when you\n# call your function thousands of times in the next part.\n\n# Put the code for your function here\n\n# now call your function and store the returned values in variables midwk\n# and wkend\nmidwk, wkend = meanrain(dayOfWeek, data[:,3])\n# then compute their difference in variable delta\ndelta = midwk - wkend\n\n\nprint 'It rained', midwk, 'inches mid week'\nprint 'It rained', wkend, 'inches weekend'\nprint 'Difference was', delta, 'inches' \n\ncheck('mid wk rain', midwk, points=10)\ncheck('wk end rain', wkend, points=10)\ncheck('difference', delta, points=10)\n",
     "language": "python",
     "metadata": {},
     "outputs": [
      {
       "output_type": "stream",
       "stream": "stdout",
       "text": "It rained 0.125574712644 inches mid week\nIt rained 0.105907928389 inches weekend\nDifference was 0.0196667842549 inches\nmid wk rain correct\nwk end rain correct\ndifference correct\n"
      }
     ],
     "prompt_number": 73
    },
    {
     "cell_type": "markdown",
     "metadata": {},
     "source": "Finally test the null hypothesis that the day labeling is random\nby running your function many times with different permutations of the days\nand counting how many times the difference between the means is greater than the delta\nyou computed above."
    },
    {
     "cell_type": "code",
     "collapsed": false,
     "input": "day = data[:,2]\nrain = data[:,3]\nN = 1000  # number of trials, you can experiment with this\ncount = 0 # number of permutations that produced greater difference\nfor i in range(N):\n    label = np.random.permutation(dayOfWeek)\n    m, w = meanrain(label, rain)\n    if m - w > delta: \n        count = count + 1\np = float(count) / N\n\n# your code should compute the probability in this variable\n# Write you code here\n\nprint 'p =', p\n\n# Note: because of the randomness your answer may be quite different\n# from the \"expected\" value below and still be correct. I have set\n# the tolerance pretty wide.\n\ncheck('p value', p, points=40, relative_tolerance=0.001, \n      absolute_tolerance=0.02)",
     "language": "python",
     "metadata": {},
     "outputs": [
      {
       "output_type": "stream",
       "stream": "stdout",
       "text": "p = 0.055\np value correct\n"
      }
     ],
     "prompt_number": 74
    },
    {
     "cell_type": "markdown",
     "metadata": {},
     "source": "## Done!\n\nNow get your report and submit your assignment."
    },
    {
     "cell_type": "code",
     "collapsed": false,
     "input": "report(Author, Collaborators)",
     "language": "python",
     "metadata": {},
     "outputs": [
      {
       "output_type": "stream",
       "stream": "stdout",
       "text": "Report for newmane\n  Collaborators: []\n  6 of 6 correct, 100 of 100 points\n"
      },
      {
       "html": "\n<p>Click the button below to submit your assignment. Watch for a confirmation message\nthat your notebook was successfully uploaded. You may submit as often as you wish,\nonly the last submission will count.</p>\n<p id=\"errorHelp116\" style=\"display:none; color:red\">\nYour submission failed. Make sure you run every cell in your notebook before trying to\nsubmit it.</p>\n<button id=\"submitButton116\">Submit this notebook</button>\n<p id=\"submitResponse116\"></p>\n<iframe id=\"loginResponse116\" height=\"200\" width=\"600\"></iframe>\n<script>\n(function() {\n    function submit_notebook() {\n        var notebook = IPython.notebook.notebook_name,\n            uuid = 'xxxxxxxx-xxxx-4xxx-yxxx-xxxxxxxxxxxx'.replace(/[xy]/g, function(c) {\n                var r = Math.random()*16|0, v = c == 'x' ? r : (r&0x3|0x8);\n                return v.toString(16);\n            }),\n            command = \"comp116.pushNotebook('\" + notebook + \"', '\" + uuid + \"')\",\n            kernel = IPython.notebook.kernel,\n            $sresp = $('#submitResponse116'),\n            $def = $.Deferred(),\n            handler = function (out_type, out) {\n                console.log(out_type, out);\n                if(out_type == \"stream\") { // if output is a print statement\n                    $def.resolve(out.data);\n                } else if(out_type === \"pyout\") { // if output is a python object\n                    $def.resolve(out.data[\"text/plain\"]);\n                } else if(out_type == \"pyerr\") { // if output is a python error\n                    $def.reject(out.ename + \": \" + out.evalue)\n                } else { // if output is something we haven't thought of\n                    $def.reject(\"[out type not implemented]\")\n                }\n            };\n        $def.done(function(msg) {\n            $sresp.html(msg);\n            $('#loginResponse116').attr('src',\n                \"https://wwwx.cs.unc.edu/Courses/comp116-s14/upload/check/claim.cgi?nb=\" +\n                encodeURI(notebook) + \"&uuid=\" + uuid);\n        });\n        $def.fail(function(msg) {\n            $sresp.html(msg);\n            $('#errorHelp116').show();\n        });\n        // wait until save is complete before pushing the notebook\n        $([IPython.events]).one('notebook_saved.Notebook', function() {\n            kernel.execute(command, {output:handler}, {silent:false});\n        });\n        $sresp.html('');\n        IPython.notebook.save_notebook();\n    }\n    $('#submitButton116').click(submit_notebook);\n})();\n</script>\n    ",
       "metadata": {},
       "output_type": "pyout",
       "prompt_number": 75,
       "text": "<IPython.core.display.HTML at 0x105d24d50>"
      }
     ],
     "prompt_number": 75
    },
    {
     "cell_type": "code",
     "collapsed": false,
     "input": "",
     "language": "python",
     "metadata": {},
     "outputs": [],
     "prompt_number": 75
    }
   ],
   "metadata": {}
  }
 ]
}