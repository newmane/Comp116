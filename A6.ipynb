{
 "metadata": {
  "name": "A6"
 },
 "nbformat": 3,
 "nbformat_minor": 0,
 "worksheets": [
  {
   "cells": [
    {
     "cell_type": "markdown",
     "metadata": {},
     "source": "## Assignment 6 Text Indexing\n\n**Due** 22 April before 10pm\n\nIn this assignment you will build a tool that will help you search your notebooks. Along the way you'll learn about another Python data structure, the dictionary and some string methods.\n\nWhen solving a problem it is important to break it down into steps. It seems to me that the steps we will need to index our notebooks are:\n\n1. List notebook files. We've got to know which notebooks we have before the can index them.\n2. Read a notebook file. They aren't just simple text files, so we'll need to figure out their structure and how to extract the parts we want.\n3. Extract the words from the text. This problem is more challenging than you might first think.\n4. Build an index. Your index should map a word to a list of notebook files. Python makes this part easy unless we want to get fancy and allow for spelling variations. We won't do that for this problem.\n5. Provide a user interface. How will you enter the word or words you'd like to find? How will you display the list of notebooks?\n\nI will give you some hints and help for each of these steps but most of the decisions will be left up to you. If your system works well it will be a help to you on the final exam, or when you want to apply some of what you learned in this class to other problems next semester."
    },
    {
     "cell_type": "code",
     "collapsed": false,
     "input": "# usual setup\n\nAuthor = 'newmane'\nCollaborators = [ ]\n\n%matplotlib inline\nimport numpy as np\nimport pylab\nimport comp116\n\ncheck,report = comp116.start('A6')",
     "language": "python",
     "metadata": {},
     "outputs": [],
     "prompt_number": 3
    },
    {
     "cell_type": "markdown",
     "metadata": {},
     "source": "## 1. List notebook files\n\nThe Python [`os`](https://docs.python.org/2/library/os.html) module has a `listdir()` function that will list all the files in a directory. I'll illustrate its usage below. Given the name of a directory, it will return a list of strings that are the names of the files in the directory. The current directory can be accessed with the name `'.'`."
    },
    {
     "cell_type": "code",
     "collapsed": false,
     "input": "import os\n\nprint os.listdir('.')",
     "language": "python",
     "metadata": {},
     "outputs": [
      {
       "output_type": "stream",
       "stream": "stdout",
       "text": "['.bash_history', '.bash_profile', '.CFUserTextEncoding', '.continuum', '.cups', '.DS_Store', '.ipynb_checkpoints', '.ipython', '.matplotlib', '.pip', '.Trash', 'A1_1', 'A1_1.ipynb', 'A1_1checker.py', 'A1_1checker.pyc', 'A2', 'A2.ipynb', 'A2checker.py', 'A2checker.pyc', 'A3', 'A3.ipynb', 'A4', 'A4.ipynb', 'A5', 'A5.ipynb', 'A6', 'A6.ipynb', 'anaconda', 'Applications', 'babies.txt', 'comp116.py', 'comp116.pyc', 'data0415.txt', 'Desktop', 'Documents', 'Downloads', 'FE', 'FE-unlocker.ipynb', 'FE.ipynb', 'FE.locked', 'FEP', 'Fetcher.ipynb', 'FinalExamPractice.ipynb', 'Library', 'Midterm Redo.ipynb', 'Movies', 'MT1', 'MT1.ipynb', 'MT1P', 'MT1P.ipynb', 'MT1P2', 'MT1P2.ipynb', 'MT1P2solved.ipynb', 'MT1Psolved.ipynb', 'MT1solved.ipynb', 'MT2', 'MT2-unlocker.ipynb', 'MT2.ipynb', 'MT2.locked', 'Music', 'Notes0114.ipynb', 'Notes0116.ipynb', 'Notes0121.ipynb', 'Notes0123.ipynb', 'Notes0128.ipynb', 'Notes0130.ipynb', 'Notes0204.ipynb', 'Notes0206.ipynb', 'Notes0220.ipynb', 'Notes0225.ipynb', 'Notes0227.ipynb', 'Notes0304.ipynb', 'Notes0306.ipynb', 'Notes0318.ipynb', 'Notes0320.ipynb', 'Notes0325.ipynb', 'notes0325em.ipynb', 'Notes0401-MT2.ipynb', 'Notes0408.ipynb', 'Notes0410.ipynb', 'Notes0415.ipynb', 'Notes0417.ipynb', 'Notes0422-What-Next.ipynb', 'notes114em.ipynb', 'Notes123em.ipynb', 'Notes128em.ipynb', 'Notes130em.ipynb', 'notes225em.ipynb', 'notes24em.ipynb', 'notes34em.ipynb', 'notes36em.ipynb', 'Pictures', 'Practice.ipynb', 'Public', 'PythonReference.ipynb', 'Review.ipynb', 'Untitled0.ipynb', 'Untitled1.ipynb', 'WBArray.ipynb', 'WBBCCompositeReview2PROBLEMS.ipynb', 'WBBCCompositeReview2SOLUTIONS.ipynb', 'WBBCCompositeReviewPROBLEMS.ipynb', 'WBBCCompositeReviewSOLUTIONS.ipynb', 'WBChallenge', 'WBChallenge.ipynb', 'WBData', 'WBLoopIf.ipynb', 'WBLoops.ipynb', 'words']\n"
      }
     ],
     "prompt_number": 4
    },
    {
     "cell_type": "markdown",
     "metadata": {},
     "source": "Note: **not** everything it lists is a notebook file; the notebooks are the ones that end with `.ipynb`. Happily Python strings support the `.endswith()` method. We can use it with a loop to isolate the names of the notebook files. For example:"
    },
    {
     "cell_type": "code",
     "collapsed": false,
     "input": "fname = 'A1setup.py'\nprint fname, fname.endswith('.ipynb')\nfname = 'A6.ipynb'\nprint fname, fname.endswith('.ipynb')",
     "language": "python",
     "metadata": {},
     "outputs": [
      {
       "output_type": "stream",
       "stream": "stdout",
       "text": "A1setup.py False\nA6.ipynb True\n"
      }
     ],
     "prompt_number": 5
    },
    {
     "cell_type": "markdown",
     "metadata": {},
     "source": "Write a function that will return a list of strings that are the names of all the iPython notebook files in the current directory. Name your function `getNotebookNames()`. You'll need to use the `listdir` and `endswith` functions described above in a loop to build up your list."
    },
    {
     "cell_type": "code",
     "collapsed": false,
     "input": "# write your function here\ndef getNotebookNames():\n    list = []\n    a = os.listdir('.')\n    for file in a:\n        if file.endswith('.ipynb')== True:\n            list.append(file)\n    return list\n    \n# Now I will call your function and test the output\nnotebookNames = getNotebookNames()\n\nprint notebookNames\n\n# I can't do the usual sort of checking because we all have different notebooks. \n# But I can make some assertions about your results.\n\ncheck('notebookNames type', type(notebookNames), points=5)\ncheck('notebookNames length', len(notebookNames) > 1, points=5)\nimport os.path as osp # the path module has lots of useful functions for files\nOK = True\nfor notebookName in notebookNames:\n    OK = OK and notebookName.endswith('.ipynb') and osp.exists(notebookName)\nif OK:\n    print 'Your notebookNames appear to be correct'\nelse:\n    print 'There is a problem with your notebookNames'\ncheck('notebookNames OK', OK, points=10)\n",
     "language": "python",
     "metadata": {},
     "outputs": [
      {
       "output_type": "stream",
       "stream": "stdout",
       "text": "['A1_1.ipynb', 'A2.ipynb', 'A3.ipynb', 'A4.ipynb', 'A5.ipynb', 'A6.ipynb', 'FE-unlocker.ipynb', 'FE.ipynb', 'Fetcher.ipynb', 'FinalExamPractice.ipynb', 'Midterm Redo.ipynb', 'MT1.ipynb', 'MT1P.ipynb', 'MT1P2.ipynb', 'MT1P2solved.ipynb', 'MT1Psolved.ipynb', 'MT1solved.ipynb', 'MT2-unlocker.ipynb', 'MT2.ipynb', 'Notes0114.ipynb', 'Notes0116.ipynb', 'Notes0121.ipynb', 'Notes0123.ipynb', 'Notes0128.ipynb', 'Notes0130.ipynb', 'Notes0204.ipynb', 'Notes0206.ipynb', 'Notes0220.ipynb', 'Notes0225.ipynb', 'Notes0227.ipynb', 'Notes0304.ipynb', 'Notes0306.ipynb', 'Notes0318.ipynb', 'Notes0320.ipynb', 'Notes0325.ipynb', 'notes0325em.ipynb', 'Notes0401-MT2.ipynb', 'Notes0408.ipynb', 'Notes0410.ipynb', 'Notes0415.ipynb', 'Notes0417.ipynb', 'Notes0422-What-Next.ipynb', 'notes114em.ipynb', 'Notes123em.ipynb', 'Notes128em.ipynb', 'Notes130em.ipynb', 'notes225em.ipynb', 'notes24em.ipynb', 'notes34em.ipynb', 'notes36em.ipynb', 'Practice.ipynb', 'PythonReference.ipynb', 'Review.ipynb', 'Untitled0.ipynb', 'Untitled1.ipynb', 'WBArray.ipynb', 'WBBCCompositeReview2PROBLEMS.ipynb', 'WBBCCompositeReview2SOLUTIONS.ipynb', 'WBBCCompositeReviewPROBLEMS.ipynb', 'WBBCCompositeReviewSOLUTIONS.ipynb', 'WBChallenge.ipynb', 'WBLoopIf.ipynb', 'WBLoops.ipynb']\nnotebookNames type correct\nnotebookNames length correct\nYour notebookNames appear to be correct\nnotebookNames OK correct\n"
      }
     ],
     "prompt_number": 6
    },
    {
     "cell_type": "markdown",
     "metadata": {},
     "source": "## 2. Read a notebook file\n\nNow, given a filename we want to read the file and extract the contents of all of the code cells. We'll use the `read` function from the `IPython.nbformat.current` module. It's pretty ugly so I will give you a helper function that returns a list of strings that are the code blocks. If you'd like to include the text as well, just modify the `if` condition below."
    },
    {
     "cell_type": "code",
     "collapsed": false,
     "input": "import IPython.nbformat.current as nb\n\n# no need to change this\ndef getNotebookText(notebookName):\n    '''Return a list of strings with the code from the given notebook'''\n    # first we initialize the variable where we will build up a list of strings\n    result = []\n    # then we open the file and read it using a specialized function \n    # provided by iPython\n    notebook = nb.read(file(notebookName, 'r'), 'json')\n    # A notebook consists of a list of worksheets, \n    # I've only ever seen content in the first one.\n    for worksheet in notebook.worksheets:\n        # A worksheet consists of a list of cells\n        for cell in worksheet.cells:\n            # cells come in several types, we're only interested in the code cells\n            if cell.cell_type == 'code':\n                # finally the input attribute of a cell has the string we need\n                result.append(cell.input)\n    return result\n\n# illustrate what we get\ncodeCells =  getNotebookText('A6.ipynb')\nprint 'first cell content'\nprint codeCells[0]",
     "language": "python",
     "metadata": {},
     "outputs": [
      {
       "output_type": "stream",
       "stream": "stdout",
       "text": "first cell content\n# usual setup\n\nAuthor = 'newmane'\nCollaborators = [ ]\n\n%matplotlib inline\nimport numpy as np\nimport pylab\nimport comp116\n\ncheck,report = comp116.start('A6')\n"
      }
     ],
     "prompt_number": 7
    },
    {
     "cell_type": "markdown",
     "metadata": {},
     "source": "## 3. Extract the words from the text\n\nGiven a string with the code from a cell, we'd like to get all the words it contains. We have seen the use of the `.split()` method of `str` to break strings at spaces but a quick look at our code strings shows this won't be very useful; we've got punctuation of all sorts that would get lumped into our words. \n\n### Using regular expressions to isolate words\n\n[Regular expressions](https://docs.python.org/2/library/re.html) are a powerful way to process strings. You can use them to describe words, numbers, and all sorts of fairly complicated strings. I'm not going to make you learn all the details of regular expressions for this assignment but I recommend them to you whenever you have a problem requiring you to split up strings in ways more complicated than `.split()` can handle. \n\nI'll show you how to split the text into words below. I will use the `findall` function from the [`re`](https://docs.python.org/2/library/re.html) module. The first argument is the pattern. The lowercase 'r' in front of the string makes it a _raw_ string, meaning backslash escapes are not replaced by the normal python processing. The pattern I'm using says I want sequences of word characters (letters, numbers, underscores). The second argument in the string I want to parse. I'll do the first code cell from A6 to illustrate. "
    },
    {
     "cell_type": "code",
     "collapsed": false,
     "input": "import re\n\nwords = re.findall(r'\\w+', codeCells[0])\n\nprint words",
     "language": "python",
     "metadata": {},
     "outputs": [
      {
       "output_type": "stream",
       "stream": "stdout",
       "text": "[u'usual', u'setup', u'Author', u'newmane', u'Collaborators', u'matplotlib', u'inline', u'import', u'numpy', u'as', u'np', u'import', u'pylab', u'import', u'comp116', u'check', u'report', u'comp116', u'start', u'A6']\n"
      }
     ],
     "prompt_number": 8
    },
    {
     "cell_type": "markdown",
     "metadata": {},
     "source": "### Get rid of comments\n\nThe list of words above includes all the words from comments as well as code. We can preprocess the string to remove the comments before extracting the words.\n\nWe'll still have the words embedded in strings but ridding ourselves of those is more complicated. If you're interested, you should look at the [`tokenize`](https://docs.python.org/2/library/tokenize.html) module, it break strings into Python tokens (keywords, strings, numbers, operators, etc.) using exactly the same tools the system uses."
    },
    {
     "cell_type": "code",
     "collapsed": false,
     "input": "commentFree = re.sub(r'#.*$', '', codeCells[0], flags=re.M)\nprint commentFree",
     "language": "python",
     "metadata": {},
     "outputs": [
      {
       "output_type": "stream",
       "stream": "stdout",
       "text": "\n\nAuthor = 'newmane'\nCollaborators = [ ]\n\n%matplotlib inline\nimport numpy as np\nimport pylab\nimport comp116\n\ncheck,report = comp116.start('A6')\n"
      }
     ],
     "prompt_number": 9
    },
    {
     "cell_type": "markdown",
     "metadata": {},
     "source": "### Write a function.\n\nNow that we have the pieces, write a function named `getWords` that takes a string as an argument and returns a list of strings that are the words from the given string. You may choose to eliminate the comments as shown above or not. "
    },
    {
     "cell_type": "code",
     "collapsed": false,
     "input": "# Write your code here\ndef getWords(string):\n    a = re.sub(r'#.*$', '', string, flags=re.M)\n    lists = re.findall(r'\\w+', a)\n    return lists\n# then I will test it a bit\n# I will assume that codeCells is still defined from above\nwords = getWords(codeCells[0])\nprint words\n\n# the result should be a list\ncheck('getWords type', type(words), points=5)\n# should have somme content\ncheck('getWords length', len(words) > 3, points=5)\n# and the words should be strings\ncheck('word type', type(words[0]), points=5)\n",
     "language": "python",
     "metadata": {},
     "outputs": [
      {
       "output_type": "stream",
       "stream": "stdout",
       "text": "[u'Author', u'newmane', u'Collaborators', u'matplotlib', u'inline', u'import', u'numpy', u'as', u'np', u'import', u'pylab', u'import', u'comp116', u'check', u'report', u'comp116', u'start', u'A6']\ngetWords type correct\ngetWords length correct\nword type correct\n"
      }
     ],
     "prompt_number": 10
    },
    {
     "cell_type": "markdown",
     "metadata": {},
     "source": "## 4. Build the index\n\nNow we can list the notebooks, get the code cells, and extract the words. We just need to build an index that given a word, returns a set of notebook names.\n\n### dict and set\n\nPython has two data structures that will be useful here. The dictionary (`dict`) is a container, like a list or an array is a container. But where lists and arrays use integers as their index, dicts can use any immutable object such as a string, number, or tuple. The `set` is a bit like `dict` that only keeps track of the keys. \n\nHere are a few examples."
    },
    {
     "cell_type": "code",
     "collapsed": false,
     "input": "# create an empty dictionary\nd = {}\n# add a new element with the key 'answer'\nd['answer'] = 42\n# add a few more\nd['comp116'] = 'great class'\nd[2014] = 'a really good year'\n\n# we can print the dictionary\nprint 'd=', d\n\n# we can get the keys for the dictionary\nprint 'd.keys()=', d.keys()\n\n# we can iterate over the keys and get the value for each\nfor k in d:\n    print k, d[k]\n\n# create a set\ns = set()\n# add some elements\ns.add('hello')\ns.add('there')\n\n# print the set\nprint 's=', s\n\n# we can also compute set unions and intersections\ns2 = set(['hello', 'world'])\n\nprint 's2=', s2\n\nprint 'union s with s2', s | s2\n\nprint 'intersection s with s2', s & s2",
     "language": "python",
     "metadata": {},
     "outputs": [
      {
       "output_type": "stream",
       "stream": "stdout",
       "text": "d= {'answer': 42, 'comp116': 'great class', 2014: 'a really good year'}\nd.keys()= ['answer', 'comp116', 2014]\nanswer 42\ncomp116 great class\n2014 a really good year\ns= set(['there', 'hello'])\ns2= set(['world', 'hello'])\nunion s with s2 set(['world', 'there', 'hello'])\nintersection s with s2 set(['hello'])\n"
      }
     ],
     "prompt_number": 11
    },
    {
     "cell_type": "markdown",
     "metadata": {},
     "source": "### Write code to build the index\n\nNow you should combine the pieces above to create an index. You'll need to get all the words for each notebook and use a dictionary with words as the keys and sets of notebook names as the values."
    },
    {
     "cell_type": "code",
     "collapsed": false,
     "input": "index = {} # store your index here\nfor notebook in notebookNames:\n    a = getNotebookText(notebook)\n    for string in a:\n        b = getWords(string)\n        for word in b:\n            if word in index:\n                index[word].add(notebook)\n            else:\n                index[word] = set()\n                index[word].add(notebook)\n\n# Now I'll try to verify a few characteristics of your index\n# it should be a dict\ncheck('index type', type(index), points=5)\n# it should contain a few words from this assignment\ncheck('index findall', 'findall' in index, points=5)\ncheck('index getNotebookNames', 'getNotebookNames' in index, points=5)\ncheck('index comp116', 'comp116' in index, points=5)\n\n# the values should be sets\ncheck('index element type', type(index['findall']), points=5)\n\n# comp116 should be in several notebooks\ncheck('index comp116', len(index['comp116']) > 1, points=10)\n",
     "language": "python",
     "metadata": {},
     "outputs": [
      {
       "output_type": "stream",
       "stream": "stdout",
       "text": "index type correct\nindex findall correct\nindex getNotebookNames correct\nindex comp116 correct\nindex element type correct\nindex comp116 correct\n"
      }
     ],
     "prompt_number": 12
    },
    {
     "cell_type": "markdown",
     "metadata": {},
     "source": "## 5. Provide a user interface.\n\nFinally, we can put some sort of user interface on the index to allow the user (you) to find notebooks that contain certain words. I will specify a minimal user interface that I can check automatically but you should feel free to go beyond this; you'll only be helping yourself.\n\n### Minimal interface\n\nWrite a function named `search` that takes a single argument that is a list of strings that are the words you are searching for. It should return an alphabetized list of the names of notebooks that contain all of those words."
    },
    {
     "cell_type": "code",
     "collapsed": false,
     "input": "def search(listofstrings):\n    listnames = [] \n    for i in range(len(listofstrings)):\n        listnames.append(index[listofstrings[i]])\n    answer = listnames[0]\n    for v in range(len(listnames)):\n        answer = answer & listnames[v]\n    return sorted(answer)\n\n# Now I'll call your function and confirm that it retuns something useful\nbooks = search(['comp116', 'getNotebookText', 're'])\n\nprint books\ncheck('search', 'A6.ipynb' in books, points=35)",
     "language": "python",
     "metadata": {},
     "outputs": [
      {
       "output_type": "stream",
       "stream": "stdout",
       "text": "['A6.ipynb']\nsearch correct\n"
      }
     ],
     "prompt_number": 13
    },
    {
     "cell_type": "code",
     "collapsed": false,
     "input": "report(Author, Collaborators)",
     "language": "python",
     "metadata": {},
     "outputs": [
      {
       "output_type": "stream",
       "stream": "stdout",
       "text": "Report for newmane\n  Collaborators: []\n  12 of 12 correct, 100 of 100 points\n"
      },
      {
       "html": "\n<p>Click the button below to submit your assignment. Watch for a confirmation message\nthat your notebook was successfully uploaded. You may submit as often as you wish,\nonly the last submission will count.</p>\n<p id=\"errorHelp116\" style=\"display:none; color:red\">\nYour submission failed. Make sure you run every cell in your notebook before trying to\nsubmit it.</p>\n<button id=\"submitButton116\">Submit this notebook</button>\n<p id=\"submitResponse116\"></p>\n<iframe id=\"loginResponse116\" height=\"200\" width=\"600\"></iframe>\n<script>\n(function() {\n    function submit_notebook() {\n        var notebook = IPython.notebook.notebook_name,\n            uuid = 'xxxxxxxx-xxxx-4xxx-yxxx-xxxxxxxxxxxx'.replace(/[xy]/g, function(c) {\n                var r = Math.random()*16|0, v = c == 'x' ? r : (r&0x3|0x8);\n                return v.toString(16);\n            }),\n            command = \"comp116.pushNotebook('\" + notebook + \"', '\" + uuid + \"')\",\n            kernel = IPython.notebook.kernel,\n            $sresp = $('#submitResponse116'),\n            $def = $.Deferred(),\n            handler = function (out_type, out) {\n                console.log(out_type, out);\n                if(out_type == \"stream\") { // if output is a print statement\n                    $def.resolve(out.data);\n                } else if(out_type === \"pyout\") { // if output is a python object\n                    $def.resolve(out.data[\"text/plain\"]);\n                } else if(out_type == \"pyerr\") { // if output is a python error\n                    $def.reject(out.ename + \": \" + out.evalue)\n                } else { // if output is something we haven't thought of\n                    $def.reject(\"[out type not implemented]\")\n                }\n            };\n        $def.done(function(msg) {\n            $sresp.html(msg);\n            $('#loginResponse116').attr('src',\n                \"https://wwwx.cs.unc.edu/Courses/comp116-s14/upload/check/claim.cgi?nb=\" +\n                encodeURI(notebook) + \"&uuid=\" + uuid);\n        });\n        $def.fail(function(msg) {\n            $sresp.html(msg);\n            $('#errorHelp116').show();\n        });\n        // wait until save is complete before pushing the notebook\n        $([IPython.events]).one('notebook_saved.Notebook', function() {\n            kernel.execute(command, {output:handler}, {silent:false});\n        });\n        $sresp.html('');\n        IPython.notebook.save_notebook();\n    }\n    $('#submitButton116').click(submit_notebook);\n})();\n</script>\n    ",
       "metadata": {},
       "output_type": "pyout",
       "prompt_number": 14,
       "text": "<IPython.core.display.HTML at 0x105c95450>"
      }
     ],
     "prompt_number": 14
    },
    {
     "cell_type": "markdown",
     "metadata": {},
     "source": "### Your interface\n\nSurely you can do better than the minimal interface above. For example:\n\n* You could prompt for the input with the raw_input function.\n* You could ignore words that do not occur in the index. \n* You could list how many notebooks each of the words are in (so you can spot the misspelled one).\n* You could allow queries for word1 or word2 instead of requiring all of the words.\n* You could nicely format the results.\n* Go crazy! Not for my benefit, but for yours."
    },
    {
     "cell_type": "code",
     "collapsed": false,
     "input": "# Optionally write more code here",
     "language": "python",
     "metadata": {},
     "outputs": [],
     "prompt_number": 15
    },
    {
     "cell_type": "code",
     "collapsed": false,
     "input": "def newsearch():\n    a = raw_input('What are you searching for: ')\n    return search(a)",
     "language": "python",
     "metadata": {},
     "outputs": [],
     "prompt_number": 16
    },
    {
     "cell_type": "code",
     "collapsed": false,
     "input": "newsearch()",
     "language": "python",
     "metadata": {},
     "outputs": [
      {
       "name": "stdout",
       "output_type": "stream",
       "stream": "stdout",
       "text": "What are you searching for: while\n"
      },
      {
       "metadata": {},
       "output_type": "pyout",
       "prompt_number": 17,
       "text": "[]"
      }
     ],
     "prompt_number": 17
    },
    {
     "cell_type": "code",
     "collapsed": false,
     "input": "",
     "language": "python",
     "metadata": {},
     "outputs": [],
     "prompt_number": 17
    }
   ],
   "metadata": {}
  }
 ]
}